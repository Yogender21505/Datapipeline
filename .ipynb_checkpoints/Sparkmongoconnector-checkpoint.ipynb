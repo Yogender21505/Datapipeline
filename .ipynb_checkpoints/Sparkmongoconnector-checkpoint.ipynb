{
 "cells": [
  {
   "cell_type": "code",
   "execution_count": null,
   "metadata": {},
   "outputs": [],
   "source": [
    "!pip install pyspark\n",
    "import pyspark\n",
    "from pyspark.sql import SparkSession"
   ]
  },
  {
   "cell_type": "code",
   "execution_count": null,
   "metadata": {},
   "outputs": [],
   "source": [
    "from pyspark.sql import SparkSession\n",
    "\n",
    "# Initialize Spark session with MongoDB connector\n",
    "spark = SparkSession.builder \\\n",
    "    .appName(\"UniversityMongoDB\") \\\n",
    "    .config(\"spark.mongodb.input.uri\", \"mongodb://localhost:27017/University\") \\\n",
    "    .config(\"spark.mongodb.output.uri\", \"mongodb://localhost:27017/University\") \\\n",
    "    .config(\"spark.jars.packages\", \"org.mongodb.spark:mongo-spark-connector_2.12:10.1.1\") \\\n",
    "    .getOrCreate()\n",
    "\n",
    "course_id = 1  # Replace with the actual course ID\n",
    "\n",
    "# Read data from MongoDB collection\n",
    "students_df = spark.read.format(\"mongo\").option(\"collection\", \"Courses\").load()\n",
    "\n",
    "# Filter for the course by ID and display enrolled students\n",
    "students_enrolled = students_df.filter(f\"_id == {course_id}\").select(\"enrolled_students\")\n",
    "students_enrolled.show(truncate=False)\n",
    "\n",
    "print(students_enrolled)\n"
   ]
  },
  {
   "cell_type": "code",
   "execution_count": null,
   "metadata": {},
   "outputs": [],
   "source": []
  }
 ],
 "metadata": {
  "kernelspec": {
   "display_name": "Python 3 (ipykernel)",
   "language": "python",
   "name": "python3"
  },
  "language_info": {
   "codemirror_mode": {
    "name": "ipython",
    "version": 3
   },
   "file_extension": ".py",
   "mimetype": "text/x-python",
   "name": "python",
   "nbconvert_exporter": "python",
   "pygments_lexer": "ipython3",
   "version": "3.9.13"
  }
 },
 "nbformat": 4,
 "nbformat_minor": 2
}
